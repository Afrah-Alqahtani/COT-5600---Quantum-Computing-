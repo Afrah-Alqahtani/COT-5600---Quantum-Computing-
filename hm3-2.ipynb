{
  "cells": [
    {
      "cell_type": "code",
      "source": [
        "from qiskit import QuantumCircuit, QuantumRegister, ClassicalRegister, execute, Aer\n",
        "from qiskit.visualization import plot_histogram\n",
        "\n",
        "from math import pi"
      ],
      "outputs": [],
      "execution_count": 1,
      "metadata": {
        "collapsed": true,
        "outputExpanded": false,
        "jupyter": {
          "source_hidden": false,
          "outputs_hidden": false
        },
        "nteract": {
          "transient": {
            "deleting": false
          }
        },
        "execution": {
          "iopub.status.busy": "2020-04-24T10:17:58.610Z",
          "iopub.execute_input": "2020-04-24T10:17:58.612Z",
          "iopub.status.idle": "2020-04-24T10:18:02.879Z",
          "shell.execute_reply": "2020-04-24T10:18:02.882Z"
        }
      }
    },
    {
      "cell_type": "code",
      "source": [
        "#  U is u1(THETA)\n",
        "# 3/8 * 2*pi --> pick at 3\n",
        "# 5/8 * 2*pi --> pick at 5\n",
        "# 6/8 * 2*pi + 0.1 --> pick at 6 with other small probabilities for other values\n",
        "# and so on\n",
        "THETA = 5/8 * 2*pi\n",
        "\n",
        "qc = QuantumCircuit(4, 3)\n",
        "\n",
        "# Phase kick back part of phase estimation\n",
        "for qubit in range(3):\n",
        "    qc.h(qubit)\n",
        "qc.x(3) # |psi> = |1>\n",
        "\n",
        "qc.cu1(THETA, 2, 3)\n",
        "qc.cu1(THETA*2, 1, 3)\n",
        "qc.cu1(THETA*4, 0, 3)\n",
        "\n",
        "# Inverse quantum Fourier transform for 3 bits\n",
        "qc.barrier()\n",
        "qc.h(0)\n",
        "qc.cu1(-2*pi/4, 0, 1) # R_2 is cu1(2*pi/4), R_2^{dagger} is cu1(-2*pi/4)\n",
        "qc.h(1)\n",
        "qc.cu1(-2*pi/8, 0, 2) # ...\n",
        "qc.cu1(-2*pi/4, 1, 2) # ...\n",
        "qc.h(2)\n",
        "\n",
        "# Measurement\n",
        "qc.barrier()\n",
        "for n in range(3):\n",
        "    qc.measure(n,n)\n",
        "\n",
        "qc.draw(output='mpl')"
      ],
      "outputs": [
        {
          "output_type": "execute_result",
          "execution_count": 2,
          "data": {
            "text/plain": [
              "<Figure size 1081.19x325.08 with 1 Axes>"
            ],
            "image/png": "[encoded data removed]"
          },
          "metadata": {}
        }
      ],
      "execution_count": 2,
      "metadata": {
        "collapsed": true,
        "outputExpanded": false,
        "jupyter": {
          "source_hidden": false,
          "outputs_hidden": false
        },
        "nteract": {
          "transient": {
            "deleting": false
          }
        },
        "execution": {
          "iopub.status.busy": "2020-04-24T10:18:02.895Z",
          "iopub.execute_input": "2020-04-24T10:18:02.898Z",
          "iopub.status.idle": "2020-04-24T10:18:03.823Z",
          "shell.execute_reply": "2020-04-24T10:18:03.834Z"
        }
      }
    },
    {
      "cell_type": "code",
      "source": [
        "r = execute(qc, backend=Aer.get_backend('qasm_simulator'),\n",
        "            shots=1024).result().get_counts()\n",
        "\n",
        "plot_histogram(r)"
      ],
      "outputs": [
        {
          "output_type": "execute_result",
          "execution_count": 3,
          "data": {
            "text/plain": [
              "<Figure size 504x360 with 1 Axes>"
            ],
            "image/png": "[encoded data removed]"
          },
          "metadata": {}
        }
      ],
      "execution_count": 3,
      "metadata": {
        "collapsed": true,
        "outputExpanded": false,
        "jupyter": {
          "source_hidden": false,
          "outputs_hidden": false
        },
        "nteract": {
          "transient": {
            "deleting": false
          }
        },
        "execution": {
          "iopub.status.busy": "2020-04-24T10:18:03.827Z",
          "iopub.execute_input": "2020-04-24T10:18:03.830Z",
          "iopub.status.idle": "2020-04-24T10:18:03.851Z",
          "shell.execute_reply": "2020-04-24T10:18:03.855Z"
        }
      }
    },
    {
      "cell_type": "code",
      "source": [],
      "outputs": [],
      "execution_count": null,
      "metadata": {
        "collapsed": true,
        "outputExpanded": false,
        "jupyter": {
          "source_hidden": false,
          "outputs_hidden": false
        },
        "nteract": {
          "transient": {
            "deleting": false
          }
        }
      }
    }
  ],
  "metadata": {
    "kernel_info": {
      "name": "python37364bitbaseconda29a46f8231de470895ad855ad03b8e37"
    },
    "language_info": {
      "name": "python",
      "version": "3.7.6",
      "mimetype": "text/x-python",
      "codemirror_mode": {
        "name": "ipython",
        "version": 3
      },
      "pygments_lexer": "ipython3",
      "nbconvert_exporter": "python",
      "file_extension": ".py"
    },
    "kernelspec": {
      "argv": [
        "/miniconda3/bin/python",
        "-m",
        "ipykernel_launcher",
        "-f",
        "{connection_file}"
      ],
      "display_name": "Python 3.7.3 64-bit ('base': conda)",
      "env": {
        "MAGICK_HOME": "/usr/local/Cellar/imagemagick/7.0.8-59",
        "_CE_CONDA": "",
        "VSCODE_NLS_CONFIG": "{\"locale\":\"en-us\",\"availableLanguages\":{},\"_languagePackSupport\":true}",
        "DISPLAY": "/private/tmp/com.apple.launchd.B7tf5veAaI/org.macosforge.xquartz:0",
        "VERBOSE_LOGGING": "true",
        "CLICOLOR": "1",
        "SSH_AUTH_SOCK": "/private/tmp/com.apple.launchd.YDOvUEMfEJ/Listeners",
        "VSCODE_LOGS": "/Users/ali/Library/Application Support/Code/logs/20200128T093317",
        "PATH": "/miniconda3/bin:/miniconda3/condabin:/Users/ali/.gem/ruby/2.6.5/bin:/Users/ali/.rubies/ruby-2.6.5/lib/ruby/gems/2.6.0/bin:/Users/ali/.rubies/ruby-2.6.5/bin:/Users/ali/.bin:/Users/ali/Library/Android/sdk/platform-tools:/usr/local/Cellar/imagemagick/7.0.8-59/bin:/Extra/cling_2019-02-25_mac1014/bin:/miniconda3/bin:/Users/ali/__mac/sh:/usr/local/bin:/usr/bin:/bin:/usr/sbin:/sbin:/Library/TeX/texbin:/opt/X11/bin",
        "VSCODE_IPC_HOOK_EXTHOST": "/var/folders/q3/qkqc779179gg7g1fr2gfj1dh0000gn/T/vscode-ipc-b752cf67-dc2a-4f76-a0cd-ae309688e18b.sock",
        "AMD_ENTRYPOINT": "vs/workbench/services/extensions/node/extensionHostProcess",
        "RUBY_ROOT": "/Users/ali/.rubies/ruby-2.6.5",
        "RUBY_ENGINE": "ruby",
        "CPATH": "",
        "LIBRARY_PATH": "",
        "XPC_SERVICE_NAME": "com.microsoft.VSCode.93632",
        "Apple_PubSub_Socket_Render": "/private/tmp/com.apple.launchd.dXqoljWaWb/Render",
        "USER": "ali",
        "TERM": "xterm",
        "VSCODE_HANDLES_UNCAUGHT_ERRORS": "true",
        "__CF_USER_TEXT_ENCODING": "0x1F5:0x0:0x0",
        "SHLVL": "1",
        "CONDA_SHLVL": "1",
        "VSCODE_NODE_CACHED_DATA_DIR": "/Users/ali/Library/Application Support/Code/CachedData/26076a4de974ead31f97692a0d32f90d735645c0",
        "PIPE_LOGGING": "true",
        "_CE_M": "",
        "CONDA_DEFAULT_ENV": "base",
        "CONDA_PYTHON_EXE": "/miniconda3/bin/python",
        "LOGNAME": "ali",
        "GEM_HOME": "/Users/ali/.gem/ruby/2.6.5",
        "LD_LIBRARY_PATH": "",
        "SHELL": "/bin/bash",
        "CONDA_PROMPT_MODIFIER": "(base) ",
        "CONDA_PREFIX": "/miniconda3",
        "CONDA_EXE": "/miniconda3/bin/conda",
        "GEM_ROOT": "/Users/ali/.rubies/ruby-2.6.5/lib/ruby/gems/2.6.0",
        "XPC_FLAGS": "0x0",
        "RUBY_VERSION": "2.6.5",
        "PYTHONUNBUFFERED": "1",
        "APPLICATION_INSIGHTS_NO_DIAGNOSTIC_CHANNEL": "true",
        "LC_CTYPE": "UTF-8",
        "PYTHONIOENCODING": "utf-8",
        "GEM_PATH": "/Users/ali/.gem/ruby/2.6.5:/Users/ali/.rubies/ruby-2.6.5/lib/ruby/gems/2.6.0",
        "TMPDIR": "/var/folders/q3/qkqc779179gg7g1fr2gfj1dh0000gn/T/",
        "VSCODE_PID": "6792",
        "LSCOLORS": "ExFxBxDxCxegedabagacad",
        "VSCODE_LOG_STACK": "false",
        "RUBYOPT": "",
        "VSCODE_IPC_HOOK": "/Users/ali/Library/Application Support/Code/1.41.1-main.sock",
        "DYLD_LIBRARY_PATH": "/usr/local/Cellar/imagemagick/7.0.8-59/lib/",
        "PWD": "/",
        "COLUMNS": "300",
        "ELECTRON_RUN_AS_NODE": "1",
        "_": "/miniconda3/bin/python",
        "HOME": "/Users/ali"
      },
      "language": "python",
      "metadata": {
        "interpreter": {
          "__store": true,
          "path": "/apps/miniconda3/bin/python",
          "fileHash": "0887399dc48fa1850fa83e32677206ad007bc398c5e6264b3e61095807fea559e14b3abe119f7eb0e147dc4eb3566e85acb7aee6a3860a03c1d3f7eadd8dfac7",
          "displayName": "Python 3.7.3 64-bit ('base': conda)",
          "cachedEntry": true,
          "companyDisplayName": "Anaconda, Inc.",
          "envPath": "/miniconda3",
          "architecture": 3,
          "version": {
            "prerelease": [
              "final"
            ],
            "raw": "3.7.3-final",
            "patch": 3,
            "build": [],
            "minor": 7,
            "version": "3.7.3-final",
            "major": 3,
            "options": {
              "includePrerelease": false,
              "loose": false
            },
            "loose": false
          },
          "envName": "base",
          "type": "Conda",
          "sysPrefix": "/miniconda3"
        }
      },
      "name": "python37364bitbaseconda29a46f8231de470895ad855ad03b8e37"
    },
    "nteract": {
      "version": "0.22.4"
    }
  },
  "nbformat": 4,
  "nbformat_minor": 0
}