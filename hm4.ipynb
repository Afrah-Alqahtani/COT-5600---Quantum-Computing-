{
  "cells": [
    {
      "cell_type": "code",
      "source": [
        "import numpy as np\n",
        "from math import gcd"
      ],
      "outputs": [],
      "execution_count": 1,
      "metadata": {
        "collapsed": true,
        "outputExpanded": false,
        "jupyter": {
          "source_hidden": false,
          "outputs_hidden": false
        },
        "nteract": {
          "transient": {
            "deleting": false
          }
        },
        "execution": {
          "iopub.status.busy": "2020-04-23T21:15:31.423Z",
          "iopub.execute_input": "2020-04-23T21:15:31.427Z",
          "iopub.status.idle": "2020-04-23T21:15:31.805Z",
          "shell.execute_reply": "2020-04-23T21:15:31.810Z"
        }
      }
    },
    {
      "cell_type": "code",
      "source": [
        "N = 101*103"
      ],
      "outputs": [],
      "execution_count": 2,
      "metadata": {
        "collapsed": true,
        "outputExpanded": false,
        "jupyter": {
          "source_hidden": false,
          "outputs_hidden": false
        },
        "nteract": {
          "transient": {
            "deleting": false
          }
        },
        "execution": {
          "iopub.status.busy": "2020-04-23T21:15:32.023Z",
          "iopub.execute_input": "2020-04-23T21:15:32.027Z",
          "iopub.status.idle": "2020-04-23T21:15:32.032Z",
          "shell.execute_reply": "2020-04-23T21:15:32.038Z"
        }
      }
    },
    {
      "cell_type": "markdown",
      "source": [
        "## Q1"
      ],
      "metadata": {
        "nteract": {
          "transient": {
            "deleting": false
          }
        }
      }
    },
    {
      "cell_type": "code",
      "source": [
        "def Pollards_Rho(n):\n",
        "    f = lambda x: (x**2 + 1) % n\n",
        "    x = 2\n",
        "    y = 2\n",
        "    d = 1\n",
        "    while d == 1:\n",
        "        x = f(x)\n",
        "        y = f(f(y))\n",
        "        d = gcd(abs(x-y), n)\n",
        "    if d != n:\n",
        "        return d\n",
        "    # if d == n it failed! start with different parameters\n",
        "\n",
        "f = Pollards_Rho(N)\n",
        "print(f)"
      ],
      "outputs": [
        {
          "output_type": "stream",
          "name": "stdout",
          "text": [
            "101\n"
          ]
        }
      ],
      "execution_count": 3,
      "metadata": {
        "collapsed": true,
        "outputExpanded": false,
        "jupyter": {
          "source_hidden": false,
          "outputs_hidden": false
        },
        "nteract": {
          "transient": {
            "deleting": false
          }
        },
        "execution": {
          "iopub.status.busy": "2020-04-23T21:15:34.958Z",
          "iopub.execute_input": "2020-04-23T21:15:34.963Z",
          "iopub.status.idle": "2020-04-23T21:15:34.973Z",
          "shell.execute_reply": "2020-04-23T21:15:34.977Z"
        }
      }
    },
    {
      "cell_type": "markdown",
      "source": [
        "## Q2"
      ],
      "metadata": {
        "nteract": {
          "transient": {
            "deleting": false
          }
        }
      }
    },
    {
      "cell_type": "code",
      "source": [
        "def order(a, N):\n",
        "#     assert gcd(a, N)==1\n",
        "    ar = 1\n",
        "    for r in range(1, N):\n",
        "        ar = (ar*a)%N\n",
        "        if ar==1:\n",
        "            return r\n",
        "\n",
        "order(8, 19)"
      ],
      "outputs": [
        {
          "output_type": "execute_result",
          "execution_count": 4,
          "data": {
            "text/plain": [
              "6"
            ]
          },
          "metadata": {}
        }
      ],
      "execution_count": 4,
      "metadata": {
        "collapsed": true,
        "outputExpanded": false,
        "jupyter": {
          "source_hidden": false,
          "outputs_hidden": false
        },
        "nteract": {
          "transient": {
            "deleting": false
          }
        },
        "execution": {
          "iopub.status.busy": "2020-04-23T21:15:37.579Z",
          "iopub.execute_input": "2020-04-23T21:15:37.587Z",
          "iopub.status.idle": "2020-04-23T21:15:37.597Z",
          "shell.execute_reply": "2020-04-23T21:15:37.610Z"
        }
      }
    },
    {
      "cell_type": "markdown",
      "source": [
        "## Q3"
      ],
      "metadata": {
        "nteract": {
          "transient": {
            "deleting": false
          }
        }
      }
    },
    {
      "cell_type": "code",
      "source": [
        "def factor(N):\n",
        "    f = 1\n",
        "    while f==1:\n",
        "        a = np.random.randint(2, N-1)\n",
        "        \n",
        "        if gcd(a, N)!=1:\n",
        "            continue\n",
        "        r = order(a, N)\n",
        "        \n",
        "        if r%2 == 1:\n",
        "            continue\n",
        "\n",
        "        f = gcd(a**(r//2) - 1, N)\n",
        "\n",
        "    return f\n",
        "\n",
        "f = factor(N)\n",
        "print(f)"
      ],
      "outputs": [
        {
          "output_type": "stream",
          "name": "stdout",
          "text": [
            "103\n"
          ]
        }
      ],
      "execution_count": 5,
      "metadata": {
        "collapsed": true,
        "outputExpanded": false,
        "jupyter": {
          "source_hidden": false,
          "outputs_hidden": false
        },
        "nteract": {
          "transient": {
            "deleting": false
          }
        },
        "execution": {
          "iopub.status.busy": "2020-04-23T21:15:55.880Z",
          "iopub.execute_input": "2020-04-23T21:15:55.885Z",
          "iopub.status.idle": "2020-04-23T21:15:55.897Z",
          "shell.execute_reply": "2020-04-23T21:15:55.907Z"
        }
      }
    },
    {
      "cell_type": "code",
      "source": [],
      "outputs": [],
      "execution_count": null,
      "metadata": {
        "collapsed": true,
        "outputExpanded": false,
        "jupyter": {
          "source_hidden": false,
          "outputs_hidden": false
        },
        "nteract": {
          "transient": {
            "deleting": false
          }
        }
      }
    }
  ],
  "metadata": {
    "kernel_info": {
      "name": "python37364bitbaseconda29a46f8231de470895ad855ad03b8e37"
    },
    "language_info": {
      "name": "python",
      "version": "3.7.6",
      "mimetype": "text/x-python",
      "codemirror_mode": {
        "name": "ipython",
        "version": 3
      },
      "pygments_lexer": "ipython3",
      "nbconvert_exporter": "python",
      "file_extension": ".py"
    },
    "kernelspec": {
      "argv": [
        "/miniconda3/bin/python",
        "-m",
        "ipykernel_launcher",
        "-f",
        "{connection_file}"
      ],
      "display_name": "Python 3.7.3 64-bit ('base': conda)",
      "env": {
        "MAGICK_HOME": "/usr/local/Cellar/imagemagick/7.0.8-59",
        "_CE_CONDA": "",
        "VSCODE_NLS_CONFIG": "{\"locale\":\"en-us\",\"availableLanguages\":{},\"_languagePackSupport\":true}",
        "DISPLAY": "/private/tmp/com.apple.launchd.B7tf5veAaI/org.macosforge.xquartz:0",
        "VERBOSE_LOGGING": "true",
        "CLICOLOR": "1",
        "SSH_AUTH_SOCK": "/private/tmp/com.apple.launchd.YDOvUEMfEJ/Listeners",
        "VSCODE_LOGS": "/Users/ali/Library/Application Support/Code/logs/20200128T093317",
        "PATH": "/miniconda3/bin:/miniconda3/condabin:/Users/ali/.gem/ruby/2.6.5/bin:/Users/ali/.rubies/ruby-2.6.5/lib/ruby/gems/2.6.0/bin:/Users/ali/.rubies/ruby-2.6.5/bin:/Users/ali/.bin:/Users/ali/Library/Android/sdk/platform-tools:/usr/local/Cellar/imagemagick/7.0.8-59/bin:/Extra/cling_2019-02-25_mac1014/bin:/miniconda3/bin:/Users/ali/__mac/sh:/usr/local/bin:/usr/bin:/bin:/usr/sbin:/sbin:/Library/TeX/texbin:/opt/X11/bin",
        "VSCODE_IPC_HOOK_EXTHOST": "/var/folders/q3/qkqc779179gg7g1fr2gfj1dh0000gn/T/vscode-ipc-b752cf67-dc2a-4f76-a0cd-ae309688e18b.sock",
        "AMD_ENTRYPOINT": "vs/workbench/services/extensions/node/extensionHostProcess",
        "RUBY_ROOT": "/Users/ali/.rubies/ruby-2.6.5",
        "RUBY_ENGINE": "ruby",
        "CPATH": "",
        "LIBRARY_PATH": "",
        "XPC_SERVICE_NAME": "com.microsoft.VSCode.93632",
        "Apple_PubSub_Socket_Render": "/private/tmp/com.apple.launchd.dXqoljWaWb/Render",
        "USER": "ali",
        "TERM": "xterm",
        "VSCODE_HANDLES_UNCAUGHT_ERRORS": "true",
        "__CF_USER_TEXT_ENCODING": "0x1F5:0x0:0x0",
        "SHLVL": "1",
        "CONDA_SHLVL": "1",
        "VSCODE_NODE_CACHED_DATA_DIR": "/Users/ali/Library/Application Support/Code/CachedData/26076a4de974ead31f97692a0d32f90d735645c0",
        "PIPE_LOGGING": "true",
        "_CE_M": "",
        "CONDA_DEFAULT_ENV": "base",
        "CONDA_PYTHON_EXE": "/miniconda3/bin/python",
        "LOGNAME": "ali",
        "GEM_HOME": "/Users/ali/.gem/ruby/2.6.5",
        "LD_LIBRARY_PATH": "",
        "SHELL": "/bin/bash",
        "CONDA_PROMPT_MODIFIER": "(base) ",
        "CONDA_PREFIX": "/miniconda3",
        "CONDA_EXE": "/miniconda3/bin/conda",
        "GEM_ROOT": "/Users/ali/.rubies/ruby-2.6.5/lib/ruby/gems/2.6.0",
        "XPC_FLAGS": "0x0",
        "RUBY_VERSION": "2.6.5",
        "PYTHONUNBUFFERED": "1",
        "APPLICATION_INSIGHTS_NO_DIAGNOSTIC_CHANNEL": "true",
        "LC_CTYPE": "UTF-8",
        "PYTHONIOENCODING": "utf-8",
        "GEM_PATH": "/Users/ali/.gem/ruby/2.6.5:/Users/ali/.rubies/ruby-2.6.5/lib/ruby/gems/2.6.0",
        "TMPDIR": "/var/folders/q3/qkqc779179gg7g1fr2gfj1dh0000gn/T/",
        "VSCODE_PID": "6792",
        "LSCOLORS": "ExFxBxDxCxegedabagacad",
        "VSCODE_LOG_STACK": "false",
        "RUBYOPT": "",
        "VSCODE_IPC_HOOK": "/Users/ali/Library/Application Support/Code/1.41.1-main.sock",
        "DYLD_LIBRARY_PATH": "/usr/local/Cellar/imagemagick/7.0.8-59/lib/",
        "PWD": "/",
        "COLUMNS": "300",
        "ELECTRON_RUN_AS_NODE": "1",
        "_": "/miniconda3/bin/python",
        "HOME": "/Users/ali"
      },
      "language": "python",
      "metadata": {
        "interpreter": {
          "__store": true,
          "path": "/apps/miniconda3/bin/python",
          "fileHash": "0887399dc48fa1850fa83e32677206ad007bc398c5e6264b3e61095807fea559e14b3abe119f7eb0e147dc4eb3566e85acb7aee6a3860a03c1d3f7eadd8dfac7",
          "displayName": "Python 3.7.3 64-bit ('base': conda)",
          "cachedEntry": true,
          "companyDisplayName": "Anaconda, Inc.",
          "envPath": "/miniconda3",
          "architecture": 3,
          "version": {
            "prerelease": [
              "final"
            ],
            "raw": "3.7.3-final",
            "patch": 3,
            "build": [],
            "minor": 7,
            "version": "3.7.3-final",
            "major": 3,
            "options": {
              "includePrerelease": false,
              "loose": false
            },
            "loose": false
          },
          "envName": "base",
          "type": "Conda",
          "sysPrefix": "/miniconda3"
        }
      },
      "name": "python37364bitbaseconda29a46f8231de470895ad855ad03b8e37"
    },
    "nteract": {
      "version": "0.22.4"
    }
  },
  "nbformat": 4,
  "nbformat_minor": 0
}