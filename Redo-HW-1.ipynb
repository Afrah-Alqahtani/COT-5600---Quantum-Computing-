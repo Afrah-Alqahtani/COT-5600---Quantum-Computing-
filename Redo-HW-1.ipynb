{
  "cells": [
    {
      "cell_type": "code",
      "source": [
        "import numpy as np\n",
        "import scipy.linalg"
      ],
      "outputs": [],
      "execution_count": 1,
      "metadata": {
        "id": "x1d6m-_oMjmJ",
        "colab_type": "code",
        "colab": {},
        "execution": {
          "iopub.status.busy": "2020-03-31T00:27:28.344Z",
          "iopub.execute_input": "2020-03-31T00:27:28.352Z",
          "iopub.status.idle": "2020-03-31T00:27:28.713Z",
          "shell.execute_reply": "2020-03-31T00:27:28.716Z"
        }
      }
    },
    {
      "cell_type": "code",
      "source": [
        "def vec(M):\n",
        "    return np.reshape(M, [-1, 1])\n",
        "\n",
        "def compute_A(M):\n",
        "    n = M.shape[0]\n",
        "    columns = [vec(np.eye(n))]\n",
        "    for k in range(n):\n",
        "        M_k = np.linalg.matrix_power(M, k+1)\n",
        "        columns.append(vec(M_k))\n",
        "    A = np.hstack(columns)\n",
        "    return A\n",
        "\n",
        "def annihilate_min_deg_poly(M):\n",
        "    A = compute_A(M)\n",
        "#     a = np.linalg.solve(A, np.zeros(A.shape[0]))\n",
        "    a = np.linalg.lstsq(A, np.zeros(A.shape[0]), rcond=None)[0]\n",
        "#     a = scipy.linalg.null_space(A).T[0]\n",
        "#     a = np.poly(M)\n",
        "    return a\n",
        "\n",
        "def poly(a, M):\n",
        "    p = 0\n",
        "    for i in range(len(list(a))):\n",
        "        p += a[i] * np.linalg.matrix_power(M, i)\n",
        "    return p\n",
        "\n",
        "M = np.array([[1, 3],\n",
        "              [7, 4]])\n",
        "\n",
        "A = compute_A(M)\n",
        "r = np.linalg.matrix_rank(A)\n",
        "a = annihilate_min_deg_poly(M)\n",
        "p = poly(a, M)\n",
        "\n",
        "print(f\"M = {M}\\n\")\n",
        "print(f\"A = {A}\\n\")\n",
        "print(f\"r = {r}\\n\")\n",
        "print(f\"a = {a}\\n\")\n",
        "print(f\"p = {p}\\n\")"
      ],
      "outputs": [
        {
          "output_type": "stream",
          "name": "stdout",
          "text": [
            "M = [[1 3]\n",
            " [7 4]]\n",
            "\n",
            "A = [[ 1.  1. 22.]\n",
            " [ 0.  3. 15.]\n",
            " [ 0.  7. 35.]\n",
            " [ 1.  4. 37.]]\n",
            "\n",
            "r = 2\n",
            "\n",
            "a = [0. 0. 0.]\n",
            "\n",
            "p = [[0. 0.]\n",
            " [0. 0.]]\n",
            "\n"
          ]
        }
      ],
      "execution_count": 2,
      "metadata": {
        "id": "P1omYT79OWPE",
        "colab_type": "code",
        "colab": {},
        "execution": {
          "iopub.status.busy": "2020-03-31T00:27:30.191Z",
          "iopub.execute_input": "2020-03-31T00:27:30.198Z",
          "iopub.status.idle": "2020-03-31T00:27:30.217Z",
          "shell.execute_reply": "2020-03-31T00:27:30.226Z"
        }
      }
    },
    {
      "cell_type": "code",
      "source": [],
      "outputs": [],
      "execution_count": null,
      "metadata": {
        "collapsed": false,
        "jupyter": {
          "source_hidden": false,
          "outputs_hidden": false
        },
        "nteract": {
          "transient": {
            "deleting": false
          }
        }
      }
    }
  ],
  "metadata": {
    "colab": {
      "name": "HW1.ipynb",
      "provenance": []
    },
    "kernelspec": {
      "name": "python3",
      "display_name": "Python 3"
    },
    "language_info": {
      "name": "python",
      "version": "3.7.3",
      "mimetype": "text/x-python",
      "codemirror_mode": {
        "name": "ipython",
        "version": 3
      },
      "pygments_lexer": "ipython3",
      "nbconvert_exporter": "python",
      "file_extension": ".py"
    },
    "nteract": {
      "version": "0.22.0"
    }
  },
  "nbformat": 4,
  "nbformat_minor": 0
}