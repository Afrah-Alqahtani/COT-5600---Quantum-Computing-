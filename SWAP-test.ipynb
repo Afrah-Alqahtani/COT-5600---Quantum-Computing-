{
  "cells": [
    {
      "cell_type": "code",
      "source": [
        "import numpy as np\n",
        "import matplotlib.pyplot as plt\n",
        "from mpl_toolkits.mplot3d import Axes3D\n",
        "from matplotlib import cm\n",
        "from matplotlib.ticker import LinearLocator, FormatStrFormatter\n",
        "\n",
        "%matplotlib inline"
      ],
      "outputs": [],
      "execution_count": 1,
      "metadata": {
        "id": "LMlHQcw-IOhR",
        "colab_type": "code",
        "colab": {},
        "execution": {
          "iopub.status.busy": "2020-03-30T18:23:20.820Z",
          "iopub.execute_input": "2020-03-30T18:23:20.829Z",
          "iopub.status.idle": "2020-03-30T18:23:21.355Z",
          "shell.execute_reply": "2020-03-30T18:23:21.364Z"
        }
      }
    },
    {
      "cell_type": "code",
      "source": [
        "Zero = np.array([[1], [0]])\n",
        "One = np.array([[0], [1]])\n",
        "\n",
        "P0 = np.dot(Zero, Zero.T)\n",
        "P1 = np.dot(One, One.T)\n",
        "\n",
        "Hadamard = 1./np.sqrt(2) * np.array([[1, 1],\n",
        "                                     [1, -1]])\n",
        "\n",
        "def ket(i, n):\n",
        "    r = np.zeros((2**n,))\n",
        "    r[i] = 1\n",
        "    return r\n",
        "\n",
        "def otimes(*args):\n",
        "    result = np.array([[1.0]])\n",
        "    for arg in args:\n",
        "        result = np.kron(result, arg)\n",
        "    return result\n",
        "\n",
        "def hadamard_test_operator(U):\n",
        "    # A Hadamard on Q0\n",
        "    # Controlled U gate on Q[1:n]\n",
        "    # A Hadamard on Q0\n",
        "    T =           otimes(Hadamard, np.eye(4))\n",
        "    T = np.dot(T, otimes(P0, np.eye(4)) + otimes(P1, U))\n",
        "    T = np.dot(T, otimes(Hadamard, np.eye(4)))\n",
        "\n",
        "    return T\n",
        "\n",
        "def measure1qbis(psi):\n",
        "    # measurment matrices\n",
        "    P_b0 = otimes(P0, np.eye(4))\n",
        "    P_b1 = otimes(P1, np.eye(4))\n",
        "\n",
        "    # measurment probabilities\n",
        "    p_0 = np.round(np.square(np.linalg.norm(np.dot(P_b0, psi))), 6)\n",
        "    p_1 = np.round(np.square(np.linalg.norm(np.dot(P_b1, psi))), 6)\n",
        "    \n",
        "    return p_0, p_1"
      ],
      "outputs": [],
      "execution_count": 2,
      "metadata": {
        "id": "TDNIoJjjIQuS",
        "colab_type": "code",
        "colab": {},
        "execution": {
          "iopub.status.busy": "2020-03-30T18:23:21.405Z",
          "iopub.execute_input": "2020-03-30T18:23:21.412Z",
          "iopub.status.idle": "2020-03-30T18:23:21.422Z",
          "shell.execute_reply": "2020-03-30T18:23:21.482Z"
        }
      }
    },
    {
      "cell_type": "markdown",
      "source": [
        "**SWAP operator**"
      ],
      "metadata": {
        "id": "accerl7LIkf8",
        "colab_type": "text"
      }
    },
    {
      "cell_type": "code",
      "source": [
        "S = np.outer(ket(0,2), ket(0,2)) + \\\n",
        "    np.outer(ket(1,2), ket(2,2)) + \\\n",
        "    np.outer(ket(2,2), ket(1,2)) + \\\n",
        "    np.outer(ket(3,2), ket(3,2))"
      ],
      "outputs": [],
      "execution_count": 3,
      "metadata": {
        "id": "hk5H57nLIhvH",
        "colab_type": "code",
        "colab": {},
        "execution": {
          "iopub.status.busy": "2020-03-30T18:23:21.430Z",
          "iopub.execute_input": "2020-03-30T18:23:21.435Z",
          "iopub.status.idle": "2020-03-30T18:23:21.446Z",
          "shell.execute_reply": "2020-03-30T18:23:21.486Z"
        }
      }
    },
    {
      "cell_type": "markdown",
      "source": [
        "**Hadamard on Q0, then controlled swap on Q1 and Q2, then Hadamard on Q0**"
      ],
      "metadata": {
        "id": "fGjotSshIsmn",
        "colab_type": "text"
      }
    },
    {
      "cell_type": "code",
      "source": [
        "T = hadamard_test_operator(S)"
      ],
      "outputs": [],
      "execution_count": 4,
      "metadata": {
        "id": "UCebk-hKItYZ",
        "colab_type": "code",
        "colab": {},
        "execution": {
          "iopub.status.busy": "2020-03-30T18:23:21.452Z",
          "iopub.execute_input": "2020-03-30T18:23:21.457Z",
          "iopub.status.idle": "2020-03-30T18:23:21.465Z",
          "shell.execute_reply": "2020-03-30T18:23:21.491Z"
        }
      }
    },
    {
      "cell_type": "code",
      "source": [
        "Ang = []\n",
        "Prob_0 = []\n",
        "\n",
        "for theta in range(100):\n",
        "    theta /= 100\n",
        "    psi_1 = Zero\n",
        "    psi_2 = np.cos(2*np.pi*theta) * Zero + \\\n",
        "            np.sin(2*np.pi*theta) * One\n",
        "\n",
        "    psi = np.dot(T, otimes(Zero, psi_1, psi_2))\n",
        "\n",
        "    p_0, p_1 = measure1qbis(psi)\n",
        "    \n",
        "    Ang.append(theta*2*np.pi)\n",
        "    Prob_0.append(p_0)\n",
        "\n",
        "plt.plot(Ang, Prob_0)\n",
        "plt.xlabel('$\\\\theta$')\n",
        "plt.ylabel('Probabily of 0')\n",
        "plt.show()"
      ],
      "outputs": [
        {
          "output_type": "display_data",
          "data": {
            "text/plain": [
              "<Figure size 432x288 with 1 Axes>"
            ],
            "image/png": "[encoded data removed]"
          },
          "metadata": {
            "needs_background": "light"
          }
        }
      ],
      "execution_count": 6,
      "metadata": {
        "id": "Pkyt6teaIv-w",
        "colab_type": "code",
        "outputId": "1a8c6c4e-57ef-4ca7-9bc9-3dd41faa4a69",
        "colab": {
          "base_uri": "https://localhost:8080/",
          "height": 52
        },
        "execution": {
          "iopub.status.busy": "2020-03-30T18:23:54.303Z",
          "iopub.execute_input": "2020-03-30T18:23:54.307Z",
          "iopub.status.idle": "2020-03-30T18:23:54.465Z",
          "shell.execute_reply": "2020-03-30T18:23:54.473Z"
        }
      }
    },
    {
      "cell_type": "code",
      "source": [],
      "outputs": [],
      "execution_count": 0,
      "metadata": {
        "id": "ojNsUzzJJAtg",
        "colab_type": "code",
        "colab": {}
      }
    }
  ],
  "metadata": {
    "colab": {
      "name": "SWAP test.ipynb",
      "provenance": []
    },
    "kernelspec": {
      "name": "python3",
      "display_name": "Python 3"
    },
    "language_info": {
      "name": "python",
      "version": "3.7.3",
      "mimetype": "text/x-python",
      "codemirror_mode": {
        "name": "ipython",
        "version": 3
      },
      "pygments_lexer": "ipython3",
      "nbconvert_exporter": "python",
      "file_extension": ".py"
    },
    "nteract": {
      "version": "0.22.0"
    }
  },
  "nbformat": 4,
  "nbformat_minor": 0
}