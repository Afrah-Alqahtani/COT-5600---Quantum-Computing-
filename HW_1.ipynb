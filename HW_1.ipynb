{
  "nbformat": 4,
  "nbformat_minor": 0,
  "metadata": {
    "colab": {
      "name": "HW 1.ipynb",
      "provenance": []
    },
    "kernelspec": {
      "name": "python3",
      "display_name": "Python 3"
    }
  },
  "cells": [
    {
      "cell_type": "code",
      "metadata": {
        "id": "uPqFVz-wJ4iM",
        "colab_type": "code",
        "colab": {}
      },
      "source": [
        "import numpy as np\n",
        "import scipy.linalg"
      ],
      "execution_count": 0,
      "outputs": []
    },
    {
      "cell_type": "code",
      "metadata": {
        "id": "DOBuhcfxJ8hR",
        "colab_type": "code",
        "colab": {}
      },
      "source": [
        "def vec(M):\n",
        "    return np.reshape(M, [-1, 1])"
      ],
      "execution_count": 0,
      "outputs": []
    },
    {
      "cell_type": "code",
      "metadata": {
        "id": "Nmic09GVJ-Ew",
        "colab_type": "code",
        "colab": {}
      },
      "source": [
        "def compute_A(M):\n",
        "    n = M.shape[0]\n",
        "    columns = [vec(np.eye(n))]\n",
        "    for k in range(n):\n",
        "        Mk = np.linalg.matrix_power(M, k+1)\n",
        "        columns.append(vec(Mk))\n",
        "    A = np.hstack(columns)\n",
        "    return A"
      ],
      "execution_count": 0,
      "outputs": []
    },
    {
      "cell_type": "code",
      "metadata": {
        "id": "F6Xt5grSJ_-g",
        "colab_type": "code",
        "colab": {}
      },
      "source": [
        "def annihilate_min_deg_poly(M):\n",
        "    A = compute_A(M)\n",
        "    # print(A)\n",
        "    # print(A.shape)\n",
        "    # np.linalg.solve(A, np.zeros(A.shape[0]))\n",
        "    a = scipy.linalg.null_space(A)\n",
        "    return a"
      ],
      "execution_count": 0,
      "outputs": []
    },
    {
      "cell_type": "code",
      "metadata": {
        "id": "GsnJIu43KBZo",
        "colab_type": "code",
        "colab": {
          "base_uri": "https://localhost:8080/",
          "height": 68
        },
        "outputId": "f0d80cb0-1a22-4bf4-8609-6d9e0400087a"
      },
      "source": [
        "M = np.array([[1,2], [3,4]])\n",
        "a = annihilate_min_deg_poly(M)\n",
        "print(a)"
      ],
      "execution_count": 5,
      "outputs": [
        {
          "output_type": "stream",
          "text": [
            "[[-0.36514837]\n",
            " [-0.91287093]\n",
            " [ 0.18257419]]\n"
          ],
          "name": "stdout"
        }
      ]
    },
    {
      "cell_type": "code",
      "metadata": {
        "id": "JIZXvhoWKCr-",
        "colab_type": "code",
        "colab": {}
      },
      "source": [
        ""
      ],
      "execution_count": 0,
      "outputs": []
    }
  ]
}