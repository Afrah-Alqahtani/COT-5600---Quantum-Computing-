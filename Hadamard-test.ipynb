{
  "cells": [
    {
      "cell_type": "code",
      "source": [
        "import numpy as np\n",
        "import matplotlib.pyplot as plt\n",
        "%matplotlib inline"
      ],
      "outputs": [],
      "execution_count": 1,
      "metadata": {
        "id": "b-E0HK2CFrh_",
        "colab_type": "code",
        "colab": {},
        "execution": {
          "iopub.status.busy": "2020-03-30T16:21:39.674Z",
          "iopub.execute_input": "2020-03-30T16:21:39.682Z",
          "shell.execute_reply": "2020-03-30T16:21:40.369Z",
          "iopub.status.idle": "2020-03-30T16:21:40.355Z"
        }
      }
    },
    {
      "cell_type": "code",
      "source": [
        "Zero = np.array([[1], [0]])\n",
        "One = np.array([[0], [1]])\n",
        "\n",
        "P0 = np.dot(Zero, Zero.T)\n",
        "P1 = np.dot(One, One.T)\n",
        "\n",
        "Hadamard = 1./np.sqrt(2) * np.array([[1, 1],\n",
        "                                     [1, -1]])\n",
        "\n",
        "X = np.array([[0, 1],\n",
        "              [1, 0]])\n",
        "\n",
        "def otimes(*args):\n",
        "    result = np.array([[1.0]])\n",
        "    for arg in args:\n",
        "        result = np.kron(result, arg)\n",
        "    return result\n",
        "\n",
        "def dot(*args):\n",
        "    result = args[0]\n",
        "    for arg in args[1:]:\n",
        "        result = np.dot(result, arg)\n",
        "    return result\n",
        "\n",
        "def hadamard_test(U, phi):\n",
        "    # A Hadamard on Q0\n",
        "    # Controlled U gate on Q[1:n] \n",
        "    # A Hadamard on Q0\n",
        "    T =           otimes(Hadamard, np.eye(2))\n",
        "    T = np.dot(T, otimes(P0, np.eye(2)) + otimes(P1, U))\n",
        "    T = np.dot(T, otimes(Hadamard, np.eye(2)))\n",
        "\n",
        "    zero_phi = otimes(Zero, phi)\n",
        "    \n",
        "    # apply the total operation\n",
        "    psi = np.dot(T, zero_phi)\n",
        "\n",
        "    return psi\n",
        "\n",
        "def measure1qbis(psi):\n",
        "    # measurment matrices\n",
        "    P_b0 = otimes(P0, np.eye(2))\n",
        "    P_b1 = otimes(P1, np.eye(2))\n",
        "\n",
        "    # measurment probabilities\n",
        "    p_0 = np.round(np.square(np.linalg.norm(np.dot(P_b0, psi))), 6)\n",
        "    p_1 = np.round(np.square(np.linalg.norm(np.dot(P_b1, psi))), 6)\n",
        "    \n",
        "    return p_0, p_1\n",
        "\n",
        "\n",
        "def R(theta):\n",
        "    return  np.array([[1, 0], [0, np.exp(theta*1j)]])"
      ],
      "outputs": [],
      "execution_count": 2,
      "metadata": {
        "id": "uSdh9_ntv9a-",
        "colab_type": "code",
        "colab": {},
        "execution": {
          "iopub.status.busy": "2020-03-30T16:21:40.361Z",
          "iopub.execute_input": "2020-03-30T16:21:40.391Z",
          "iopub.status.idle": "2020-03-30T16:21:40.415Z",
          "shell.execute_reply": "2020-03-30T16:21:40.408Z"
        }
      }
    },
    {
      "cell_type": "code",
      "source": [
        "Ang = []\n",
        "Prob_0 = []\n",
        "\n",
        "for theta in range(100):\n",
        "    theta /= 100\n",
        "    \n",
        "    psi = hadamard_test(R(theta), Zero)\n",
        "    p_0, p_1 = measure1qbis(psi)\n",
        "    \n",
        "    Ang.append(theta)\n",
        "    Prob_0.append(p_0)\n",
        "\n",
        "plt.plot(Ang, Prob_0)\n",
        "plt.xlabel('$\\\\theta$')\n",
        "plt.ylabel('Probabily of 0')\n",
        "plt.show()"
      ],
      "outputs": [
        {
          "output_type": "display_data",
          "data": {
            "text/plain": [
              "<Figure size 432x288 with 1 Axes>"
            ],
            "image/png": "[encoded data removed]"
          },
          "metadata": {
            "needs_background": "light"
          }
        }
      ],
      "execution_count": 3,
      "metadata": {
        "collapsed": false,
        "jupyter": {
          "source_hidden": false,
          "outputs_hidden": false
        },
        "nteract": {
          "transient": {
            "deleting": false
          }
        },
        "execution": {
          "iopub.status.busy": "2020-03-30T16:21:40.421Z",
          "iopub.execute_input": "2020-03-30T16:21:40.428Z",
          "iopub.status.idle": "2020-03-30T16:21:40.854Z",
          "shell.execute_reply": "2020-03-30T16:21:40.858Z"
        }
      }
    },
    {
      "cell_type": "code",
      "source": [],
      "outputs": [],
      "execution_count": null,
      "metadata": {
        "collapsed": false,
        "jupyter": {
          "source_hidden": false,
          "outputs_hidden": false
        },
        "nteract": {
          "transient": {
            "deleting": false
          }
        }
      }
    }
  ],
  "metadata": {
    "colab": {
      "name": "Hadamard test.ipynb",
      "provenance": []
    },
    "kernelspec": {
      "name": "python3",
      "display_name": "Python 3"
    },
    "language_info": {
      "name": "python",
      "version": "3.7.3",
      "mimetype": "text/x-python",
      "codemirror_mode": {
        "name": "ipython",
        "version": 3
      },
      "pygments_lexer": "ipython3",
      "nbconvert_exporter": "python",
      "file_extension": ".py"
    },
    "nteract": {
      "version": "0.22.0"
    }
  },
  "nbformat": 4,
  "nbformat_minor": 0
}