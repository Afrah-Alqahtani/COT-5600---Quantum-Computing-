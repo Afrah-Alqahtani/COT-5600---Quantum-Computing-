{
  "cells": [
    {
      "cell_type": "code",
      "source": [
        "import numpy as np\n",
        "from numpy import linalg"
      ],
      "outputs": [],
      "execution_count": 1,
      "metadata": {
        "collapsed": true,
        "outputExpanded": false,
        "jupyter": {
          "source_hidden": false,
          "outputs_hidden": false
        },
        "nteract": {
          "transient": {
            "deleting": false
          }
        },
        "execution": {
          "iopub.status.busy": "2020-04-24T00:40:21.939Z",
          "iopub.execute_input": "2020-04-24T00:40:21.943Z",
          "iopub.status.idle": "2020-04-24T00:40:22.369Z",
          "shell.execute_reply": "2020-04-24T00:40:22.597Z"
        }
      }
    },
    {
      "cell_type": "markdown",
      "source": [
        "### Fourier matrix"
      ],
      "metadata": {
        "nteract": {
          "transient": {
            "deleting": false
          }
        }
      }
    },
    {
      "cell_type": "code",
      "source": [
        "def get_fourier_matrix(N):\n",
        "    k_times_l = np.zeros((N, N), np.int)\n",
        "    for i in range(N):\n",
        "        for j in range(N):\n",
        "            k_times_l[i, j] = i * j\n",
        "\n",
        "    F = 1/np.sqrt(N) * np.exp(2 * np.pi * 1j / N * k_times_l)\n",
        "    return F"
      ],
      "outputs": [],
      "execution_count": 2,
      "metadata": {
        "collapsed": true,
        "outputExpanded": false,
        "jupyter": {
          "source_hidden": false,
          "outputs_hidden": false
        },
        "nteract": {
          "transient": {
            "deleting": false
          }
        },
        "execution": {
          "iopub.status.busy": "2020-04-24T00:40:22.377Z",
          "iopub.execute_input": "2020-04-24T00:40:22.383Z",
          "iopub.status.idle": "2020-04-24T00:40:22.391Z",
          "shell.execute_reply": "2020-04-24T00:40:22.602Z"
        }
      }
    },
    {
      "cell_type": "code",
      "source": [
        "n = 2\n",
        "N = 2**n\n",
        "F = get_fourier_matrix(N)\n",
        "w, v = linalg.eig(F)"
      ],
      "outputs": [],
      "execution_count": 3,
      "metadata": {
        "collapsed": true,
        "outputExpanded": false,
        "jupyter": {
          "source_hidden": false,
          "outputs_hidden": false
        },
        "nteract": {
          "transient": {
            "deleting": false
          }
        },
        "execution": {
          "iopub.status.busy": "2020-04-24T00:40:22.399Z",
          "iopub.execute_input": "2020-04-24T00:40:22.404Z",
          "iopub.status.idle": "2020-04-24T00:40:22.411Z",
          "shell.execute_reply": "2020-04-24T00:40:22.605Z"
        }
      }
    },
    {
      "cell_type": "code",
      "source": [
        "F_dagger = np.conj(F).T\n",
        "\n",
        "I = np.eye(N)\n",
        "\n",
        "if  np.allclose(np.dot(F_dagger, F), I) and \\\n",
        "    np.allclose(np.dot(F, F_dagger), I):\n",
        "    print (\"F is unitary!\")"
      ],
      "outputs": [
        {
          "output_type": "stream",
          "name": "stdout",
          "text": [
            "F is unitary!\n"
          ]
        }
      ],
      "execution_count": 4,
      "metadata": {
        "collapsed": true,
        "outputExpanded": false,
        "jupyter": {
          "source_hidden": false,
          "outputs_hidden": false
        },
        "nteract": {
          "transient": {
            "deleting": false
          }
        },
        "execution": {
          "iopub.status.busy": "2020-04-24T00:40:22.419Z",
          "iopub.execute_input": "2020-04-24T00:40:22.423Z",
          "iopub.status.idle": "2020-04-24T00:40:22.434Z",
          "shell.execute_reply": "2020-04-24T00:40:22.608Z"
        }
      }
    },
    {
      "cell_type": "code",
      "source": [
        "F_power_4 = np.dot(F, np.dot(F, np.dot(F, F)))\n",
        "if np.allclose(F_power_4, I):\n",
        "    print(\"F^4 is equal to the identity matrix\")"
      ],
      "outputs": [
        {
          "output_type": "stream",
          "name": "stdout",
          "text": [
            "F^4 is equal to the identity matrix\n"
          ]
        }
      ],
      "execution_count": 5,
      "metadata": {
        "collapsed": true,
        "outputExpanded": false,
        "jupyter": {
          "source_hidden": false,
          "outputs_hidden": false
        },
        "nteract": {
          "transient": {
            "deleting": false
          }
        },
        "execution": {
          "iopub.status.busy": "2020-04-24T00:40:22.442Z",
          "iopub.execute_input": "2020-04-24T00:40:22.446Z",
          "iopub.status.idle": "2020-04-24T00:40:22.456Z",
          "shell.execute_reply": "2020-04-24T00:40:22.611Z"
        }
      }
    },
    {
      "cell_type": "code",
      "source": [
        "print(\"eigenvalues of F are:\", np.round(w))"
      ],
      "outputs": [
        {
          "output_type": "stream",
          "name": "stdout",
          "text": [
            "eigenvalues of F are: [ 1.+0.j -1.+0.j  0.+1.j  1.-0.j]\n"
          ]
        }
      ],
      "execution_count": 6,
      "metadata": {
        "collapsed": true,
        "outputExpanded": false,
        "jupyter": {
          "source_hidden": false,
          "outputs_hidden": false
        },
        "nteract": {
          "transient": {
            "deleting": false
          }
        },
        "execution": {
          "iopub.status.busy": "2020-04-24T00:40:22.464Z",
          "iopub.execute_input": "2020-04-24T00:40:22.467Z",
          "iopub.status.idle": "2020-04-24T00:40:22.475Z",
          "shell.execute_reply": "2020-04-24T00:40:22.613Z"
        }
      }
    },
    {
      "cell_type": "markdown",
      "source": [
        "### Cyclic shift matrix"
      ],
      "metadata": {
        "nteract": {
          "transient": {
            "deleting": false
          }
        }
      }
    },
    {
      "cell_type": "code",
      "source": [
        "def get_cyclic_shift_matrix(N):\n",
        "    P = np.zeros((N, N), np.float)\n",
        "    for i in range(N):\n",
        "        for j in range(N):\n",
        "            if j == (i+1)%N:\n",
        "                P[i,j] = 1\n",
        "    return P"
      ],
      "outputs": [],
      "execution_count": 7,
      "metadata": {
        "collapsed": true,
        "outputExpanded": false,
        "jupyter": {
          "source_hidden": false,
          "outputs_hidden": false
        },
        "nteract": {
          "transient": {
            "deleting": false
          }
        },
        "execution": {
          "iopub.status.busy": "2020-04-24T00:40:22.480Z",
          "iopub.execute_input": "2020-04-24T00:40:22.483Z",
          "iopub.status.idle": "2020-04-24T00:40:22.492Z",
          "shell.execute_reply": "2020-04-24T00:40:22.616Z"
        }
      }
    },
    {
      "cell_type": "code",
      "source": [
        "P = get_cyclic_shift_matrix(N)\n",
        "w, v = linalg.eig(F)"
      ],
      "outputs": [],
      "execution_count": 8,
      "metadata": {
        "collapsed": true,
        "outputExpanded": false,
        "jupyter": {
          "source_hidden": false,
          "outputs_hidden": false
        },
        "nteract": {
          "transient": {
            "deleting": false
          }
        },
        "execution": {
          "iopub.status.busy": "2020-04-24T00:40:22.499Z",
          "iopub.execute_input": "2020-04-24T00:40:22.504Z",
          "iopub.status.idle": "2020-04-24T00:40:22.510Z",
          "shell.execute_reply": "2020-04-24T00:40:22.619Z"
        }
      }
    },
    {
      "cell_type": "code",
      "source": [
        "P_dagger = np.conj(P).T\n",
        "\n",
        "I = np.eye(N)\n",
        "\n",
        "if  np.allclose(np.dot(P_dagger, P), I) and \\\n",
        "    np.allclose(np.dot(P, P_dagger), I):\n",
        "    print (\"P is unitary!\")"
      ],
      "outputs": [
        {
          "output_type": "stream",
          "name": "stdout",
          "text": [
            "P is unitary!\n"
          ]
        }
      ],
      "execution_count": 9,
      "metadata": {
        "collapsed": true,
        "outputExpanded": false,
        "jupyter": {
          "source_hidden": false,
          "outputs_hidden": false
        },
        "nteract": {
          "transient": {
            "deleting": false
          }
        },
        "execution": {
          "iopub.status.busy": "2020-04-24T00:40:22.516Z",
          "iopub.execute_input": "2020-04-24T00:40:22.520Z",
          "iopub.status.idle": "2020-04-24T00:40:22.529Z",
          "shell.execute_reply": "2020-04-24T00:40:22.622Z"
        }
      }
    },
    {
      "cell_type": "code",
      "source": [
        "P_power_N = np.eye(N)\n",
        "for i in range(N):\n",
        "    P_power_N = np.dot(P, P_power_N)\n",
        "if np.allclose(P_power_N, I):\n",
        "    print(\"P^N is equal to the identity matrix\")"
      ],
      "outputs": [
        {
          "output_type": "stream",
          "name": "stdout",
          "text": [
            "P^N is equal to the identity matrix\n"
          ]
        }
      ],
      "execution_count": 10,
      "metadata": {
        "collapsed": true,
        "outputExpanded": false,
        "jupyter": {
          "source_hidden": false,
          "outputs_hidden": false
        },
        "nteract": {
          "transient": {
            "deleting": false
          }
        },
        "execution": {
          "iopub.status.busy": "2020-04-24T00:40:22.535Z",
          "iopub.execute_input": "2020-04-24T00:40:22.539Z",
          "iopub.status.idle": "2020-04-24T00:40:22.547Z",
          "shell.execute_reply": "2020-04-24T00:40:22.625Z"
        }
      }
    },
    {
      "cell_type": "code",
      "source": [
        "print(\"eigenvalues of P are:\", np.round(w))"
      ],
      "outputs": [
        {
          "output_type": "stream",
          "name": "stdout",
          "text": [
            "eigenvalues of P are: [ 1.+0.j -1.+0.j  0.+1.j  1.-0.j]\n"
          ]
        }
      ],
      "execution_count": 11,
      "metadata": {
        "collapsed": true,
        "outputExpanded": false,
        "jupyter": {
          "source_hidden": false,
          "outputs_hidden": false
        },
        "nteract": {
          "transient": {
            "deleting": false
          }
        },
        "execution": {
          "iopub.status.busy": "2020-04-24T00:40:22.554Z",
          "iopub.execute_input": "2020-04-24T00:40:22.558Z",
          "iopub.status.idle": "2020-04-24T00:40:22.566Z",
          "shell.execute_reply": "2020-04-24T00:40:22.628Z"
        }
      }
    },
    {
      "cell_type": "code",
      "source": [
        "R = np.dot(F_dagger, np.dot(P, F))\n",
        "\n",
        "def is_diagonal(M):\n",
        "    i, j = np.nonzero(np.round(M))\n",
        "    return np.all(i == j)\n",
        "\n",
        "print(\"F_dagger * P * F is diagonal:\",  is_diagonal(R))"
      ],
      "outputs": [
        {
          "output_type": "stream",
          "name": "stdout",
          "text": [
            "F_dagger * P * F is diagonal: True\n"
          ]
        }
      ],
      "execution_count": 13,
      "metadata": {
        "collapsed": true,
        "outputExpanded": false,
        "jupyter": {
          "source_hidden": false,
          "outputs_hidden": false
        },
        "nteract": {
          "transient": {
            "deleting": false
          }
        },
        "execution": {
          "iopub.status.busy": "2020-04-24T00:40:46.217Z",
          "iopub.execute_input": "2020-04-24T00:40:46.221Z",
          "iopub.status.idle": "2020-04-24T00:40:46.229Z",
          "shell.execute_reply": "2020-04-24T00:40:46.233Z"
        }
      }
    },
    {
      "cell_type": "code",
      "source": [],
      "outputs": [],
      "execution_count": null,
      "metadata": {
        "collapsed": true,
        "outputExpanded": false,
        "jupyter": {
          "source_hidden": false,
          "outputs_hidden": false
        },
        "nteract": {
          "transient": {
            "deleting": false
          }
        }
      }
    }
  ],
  "metadata": {
    "kernel_info": {
      "name": "python37364bitbaseconda29a46f8231de470895ad855ad03b8e37"
    },
    "language_info": {
      "name": "python",
      "version": "3.7.6",
      "mimetype": "text/x-python",
      "codemirror_mode": {
        "name": "ipython",
        "version": 3
      },
      "pygments_lexer": "ipython3",
      "nbconvert_exporter": "python",
      "file_extension": ".py"
    },
    "kernelspec": {
      "argv": [
        "/miniconda3/bin/python",
        "-m",
        "ipykernel_launcher",
        "-f",
        "{connection_file}"
      ],
      "display_name": "Python 3.7.3 64-bit ('base': conda)",
      "env": {
        "MAGICK_HOME": "/usr/local/Cellar/imagemagick/7.0.8-59",
        "_CE_CONDA": "",
        "VSCODE_NLS_CONFIG": "{\"locale\":\"en-us\",\"availableLanguages\":{},\"_languagePackSupport\":true}",
        "DISPLAY": "/private/tmp/com.apple.launchd.B7tf5veAaI/org.macosforge.xquartz:0",
        "VERBOSE_LOGGING": "true",
        "CLICOLOR": "1",
        "SSH_AUTH_SOCK": "/private/tmp/com.apple.launchd.YDOvUEMfEJ/Listeners",
        "VSCODE_LOGS": "/Users/ali/Library/Application Support/Code/logs/20200128T093317",
        "PATH": "/miniconda3/bin:/miniconda3/condabin:/Users/ali/.gem/ruby/2.6.5/bin:/Users/ali/.rubies/ruby-2.6.5/lib/ruby/gems/2.6.0/bin:/Users/ali/.rubies/ruby-2.6.5/bin:/Users/ali/.bin:/Users/ali/Library/Android/sdk/platform-tools:/usr/local/Cellar/imagemagick/7.0.8-59/bin:/Extra/cling_2019-02-25_mac1014/bin:/miniconda3/bin:/Users/ali/__mac/sh:/usr/local/bin:/usr/bin:/bin:/usr/sbin:/sbin:/Library/TeX/texbin:/opt/X11/bin",
        "VSCODE_IPC_HOOK_EXTHOST": "/var/folders/q3/qkqc779179gg7g1fr2gfj1dh0000gn/T/vscode-ipc-b752cf67-dc2a-4f76-a0cd-ae309688e18b.sock",
        "AMD_ENTRYPOINT": "vs/workbench/services/extensions/node/extensionHostProcess",
        "RUBY_ROOT": "/Users/ali/.rubies/ruby-2.6.5",
        "RUBY_ENGINE": "ruby",
        "CPATH": "",
        "LIBRARY_PATH": "",
        "XPC_SERVICE_NAME": "com.microsoft.VSCode.93632",
        "Apple_PubSub_Socket_Render": "/private/tmp/com.apple.launchd.dXqoljWaWb/Render",
        "USER": "ali",
        "TERM": "xterm",
        "VSCODE_HANDLES_UNCAUGHT_ERRORS": "true",
        "__CF_USER_TEXT_ENCODING": "0x1F5:0x0:0x0",
        "SHLVL": "1",
        "CONDA_SHLVL": "1",
        "VSCODE_NODE_CACHED_DATA_DIR": "/Users/ali/Library/Application Support/Code/CachedData/26076a4de974ead31f97692a0d32f90d735645c0",
        "PIPE_LOGGING": "true",
        "_CE_M": "",
        "CONDA_DEFAULT_ENV": "base",
        "CONDA_PYTHON_EXE": "/miniconda3/bin/python",
        "LOGNAME": "ali",
        "GEM_HOME": "/Users/ali/.gem/ruby/2.6.5",
        "LD_LIBRARY_PATH": "",
        "SHELL": "/bin/bash",
        "CONDA_PROMPT_MODIFIER": "(base) ",
        "CONDA_PREFIX": "/miniconda3",
        "CONDA_EXE": "/miniconda3/bin/conda",
        "GEM_ROOT": "/Users/ali/.rubies/ruby-2.6.5/lib/ruby/gems/2.6.0",
        "XPC_FLAGS": "0x0",
        "RUBY_VERSION": "2.6.5",
        "PYTHONUNBUFFERED": "1",
        "APPLICATION_INSIGHTS_NO_DIAGNOSTIC_CHANNEL": "true",
        "LC_CTYPE": "UTF-8",
        "PYTHONIOENCODING": "utf-8",
        "GEM_PATH": "/Users/ali/.gem/ruby/2.6.5:/Users/ali/.rubies/ruby-2.6.5/lib/ruby/gems/2.6.0",
        "TMPDIR": "/var/folders/q3/qkqc779179gg7g1fr2gfj1dh0000gn/T/",
        "VSCODE_PID": "6792",
        "LSCOLORS": "ExFxBxDxCxegedabagacad",
        "VSCODE_LOG_STACK": "false",
        "RUBYOPT": "",
        "VSCODE_IPC_HOOK": "/Users/ali/Library/Application Support/Code/1.41.1-main.sock",
        "DYLD_LIBRARY_PATH": "/usr/local/Cellar/imagemagick/7.0.8-59/lib/",
        "PWD": "/",
        "COLUMNS": "300",
        "ELECTRON_RUN_AS_NODE": "1",
        "_": "/miniconda3/bin/python",
        "HOME": "/Users/ali"
      },
      "language": "python",
      "metadata": {
        "interpreter": {
          "__store": true,
          "path": "/apps/miniconda3/bin/python",
          "fileHash": "0887399dc48fa1850fa83e32677206ad007bc398c5e6264b3e61095807fea559e14b3abe119f7eb0e147dc4eb3566e85acb7aee6a3860a03c1d3f7eadd8dfac7",
          "displayName": "Python 3.7.3 64-bit ('base': conda)",
          "cachedEntry": true,
          "companyDisplayName": "Anaconda, Inc.",
          "envPath": "/miniconda3",
          "architecture": 3,
          "version": {
            "prerelease": [
              "final"
            ],
            "raw": "3.7.3-final",
            "patch": 3,
            "build": [],
            "minor": 7,
            "version": "3.7.3-final",
            "major": 3,
            "options": {
              "includePrerelease": false,
              "loose": false
            },
            "loose": false
          },
          "envName": "base",
          "type": "Conda",
          "sysPrefix": "/miniconda3"
        }
      },
      "name": "python37364bitbaseconda29a46f8231de470895ad855ad03b8e37"
    },
    "nteract": {
      "version": "0.22.4"
    }
  },
  "nbformat": 4,
  "nbformat_minor": 0
}