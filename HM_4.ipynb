{
  "nbformat": 4,
  "nbformat_minor": 0,
  "metadata": {
    "colab": {
      "name": "HM-4.ipynb",
      "provenance": []
    },
    "kernelspec": {
      "name": "python3",
      "display_name": "Python 3"
    }
  },
  "cells": [
    {
      "cell_type": "code",
      "metadata": {
        "id": "ygw1jp3EUyUL",
        "colab_type": "code",
        "colab": {}
      },
      "source": [
        "import numpy as np\n",
        "from math import gcd"
      ],
      "execution_count": 0,
      "outputs": []
    },
    {
      "cell_type": "code",
      "metadata": {
        "id": "VtO1H2VuU8sz",
        "colab_type": "code",
        "colab": {}
      },
      "source": [
        "N = 101*103"
      ],
      "execution_count": 0,
      "outputs": []
    },
    {
      "cell_type": "markdown",
      "metadata": {
        "id": "QWJGUJEcVF6i",
        "colab_type": "text"
      },
      "source": [
        "##Q1"
      ]
    },
    {
      "cell_type": "code",
      "metadata": {
        "id": "Yk5rJyizVFXe",
        "colab_type": "code",
        "colab": {
          "base_uri": "https://localhost:8080/",
          "height": 34
        },
        "outputId": "547dcf07-665a-4eaa-ac2d-061a6ec51f95"
      },
      "source": [
        "def Pollards_Rho(n):\n",
        "    f = lambda x: (x**2 + 1) % n\n",
        "    x = 2\n",
        "    y = 2\n",
        "    d = 1\n",
        "    while d == 1:\n",
        "        x = f(x)\n",
        "        y = f(f(y))\n",
        "        d = gcd(abs(x-y), n)\n",
        "    if d != n:\n",
        "        return d\n",
        "    # if d == n it failed! start with different parameters\n",
        "\n",
        "f = Pollards_Rho(N)\n",
        "print(f)"
      ],
      "execution_count": 3,
      "outputs": [
        {
          "output_type": "stream",
          "text": [
            "101\n"
          ],
          "name": "stdout"
        }
      ]
    },
    {
      "cell_type": "markdown",
      "metadata": {
        "id": "9KG5C-KgVZjs",
        "colab_type": "text"
      },
      "source": [
        "## Q2"
      ]
    },
    {
      "cell_type": "code",
      "metadata": {
        "id": "nPg_qvrGVbSz",
        "colab_type": "code",
        "colab": {
          "base_uri": "https://localhost:8080/",
          "height": 51
        },
        "outputId": "6bdc6ed8-5519-4644-c705-7f9eb8dd2486"
      },
      "source": [
        "def order(a, N):\n",
        "  if (a >= N):\n",
        "    print(\"Error\")\n",
        "    return -1\n",
        "  \n",
        "#     assert gcd(a, N)==1\n",
        "  ar = 1\n",
        "\n",
        "  for r in range(1, N):\n",
        "    ar = (ar*a)%N\n",
        "  \n",
        "    if ar==1:\n",
        "       return r\n",
        "    if ar == 0:\n",
        "       print(\"Z_N isn't a group.\")\n",
        "       return -2\n",
        "\n",
        "#order(8, 19)\n",
        "order(2,4)\n",
        "\n"
      ],
      "execution_count": 4,
      "outputs": [
        {
          "output_type": "stream",
          "text": [
            "Z_N isn't a group.\n"
          ],
          "name": "stdout"
        },
        {
          "output_type": "execute_result",
          "data": {
            "text/plain": [
              "-2"
            ]
          },
          "metadata": {
            "tags": []
          },
          "execution_count": 4
        }
      ]
    },
    {
      "cell_type": "markdown",
      "metadata": {
        "id": "nxt4BV8XVj6q",
        "colab_type": "text"
      },
      "source": [
        "## Q3"
      ]
    },
    {
      "cell_type": "code",
      "metadata": {
        "id": "H7wjigRRVk2j",
        "colab_type": "code",
        "colab": {
          "base_uri": "https://localhost:8080/",
          "height": 34
        },
        "outputId": "4353476e-272e-4810-b29e-77a9786d9376"
      },
      "source": [
        "def factor(N):\n",
        "    f = 1\n",
        "    factors=[]\n",
        "    while f==1:\n",
        "        a = np.random.randint(2, N-1)\n",
        "        \n",
        "        \n",
        "        if gcd(a, N)!=1:\n",
        "            continue\n",
        "        r = order(a, N)\n",
        "        \n",
        "        if r%2 == 1:\n",
        "            continue\n",
        "\n",
        "        f = gcd(a**(r//2) - 1, N)\n",
        "        \n",
        "    factors.append(f)\n",
        "    factors.append(N/f)\n",
        "    return factors\n",
        "\n",
        "f = factor(N)\n",
        "print(f)"
      ],
      "execution_count": 5,
      "outputs": [
        {
          "output_type": "stream",
          "text": [
            "[103, 101.0]\n"
          ],
          "name": "stdout"
        }
      ]
    }
  ]
}