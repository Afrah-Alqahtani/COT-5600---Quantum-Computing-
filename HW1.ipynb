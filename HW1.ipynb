{
  "nbformat": 4,
  "nbformat_minor": 0,
  "metadata": {
    "colab": {
      "name": "HW1.ipynb",
      "provenance": []
    },
    "kernelspec": {
      "name": "python3",
      "display_name": "Python 3"
    }
  },
  "cells": [
    {
      "cell_type": "code",
      "metadata": {
        "id": "x1d6m-_oMjmJ",
        "colab_type": "code",
        "colab": {}
      },
      "source": [
        "import numpy as np\n",
        "import scipy.linalg\n"
      ],
      "execution_count": 0,
      "outputs": []
    },
    {
      "cell_type": "code",
      "metadata": {
        "id": "P1omYT79OWPE",
        "colab_type": "code",
        "colab": {}
      },
      "source": [
        "def vec(M):\n",
        "    return np.reshape(M, [-1, 1])\n",
        "    "
      ],
      "execution_count": 0,
      "outputs": []
    },
    {
      "cell_type": "code",
      "metadata": {
        "id": "thDeYlk3O-B_",
        "colab_type": "code",
        "colab": {}
      },
      "source": [
        "def compute_A(M):\n",
        "    n = M.shape[0]\n",
        "    columns = [vec(np.eye(n))]\n",
        "    for k in range(n):\n",
        "        Mk = np.linalg.matrix_power(M, k+1)\n",
        "        columns.append(vec(Mk))\n",
        "    A = np.hstack(columns)\n",
        "    return A"
      ],
      "execution_count": 0,
      "outputs": []
    },
    {
      "cell_type": "code",
      "metadata": {
        "id": "Um7xBJWSPK5_",
        "colab_type": "code",
        "colab": {}
      },
      "source": [
        "def annihilate_min_deg_poly(M):\n",
        "    A = compute_A(M)\n",
        "    # print(A)\n",
        "    # print(A.shape)\n",
        "    # np.linalg.solve(A, np.zeros(A.shape[0]))\n",
        "    a = scipy.linalg.null_space(A)\n",
        "    return a"
      ],
      "execution_count": 0,
      "outputs": []
    },
    {
      "cell_type": "code",
      "metadata": {
        "id": "xiU7hm0rPRsA",
        "colab_type": "code",
        "outputId": "3fafafde-269e-4d22-8107-6c8ee90c3c52",
        "colab": {
          "base_uri": "https://localhost:8080/",
          "height": 68
        }
      },
      "source": [
        "M = np.array([[1,2], [3,4]])\n",
        "a = annihilate_min_deg_poly(M)\n",
        "print(a)"
      ],
      "execution_count": 0,
      "outputs": [
        {
          "output_type": "stream",
          "text": [
            "[[-0.36514837]\n",
            " [-0.91287093]\n",
            " [ 0.18257419]]\n"
          ],
          "name": "stdout"
        }
      ]
    },
    {
      "cell_type": "code",
      "metadata": {
        "id": "02AaGeY5PaJm",
        "colab_type": "code",
        "colab": {}
      },
      "source": [
        ""
      ],
      "execution_count": 0,
      "outputs": []
    }
  ]
}